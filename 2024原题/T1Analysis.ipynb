{
 "cells": [
  {
   "cell_type": "code",
   "execution_count": 1,
   "id": "4f235264",
   "metadata": {},
   "outputs": [],
   "source": [
    "from sympy import Mod, Integer\n",
    "from sympy.core.numbers import mod_inverse"
   ]
  },
  {
   "cell_type": "markdown",
   "id": "2217c176",
   "metadata": {},
   "source": [
    "题目描述：分析题目附件中的代码，根据服务端所给出的密文，解密出所对应的明文消息  \n",
    "题目附件中的代码："
   ]
  },
  {
   "cell_type": "code",
   "execution_count": 2,
   "id": "e042875a",
   "metadata": {},
   "outputs": [],
   "source": [
    "# 模数\n",
    "N_HEX = \"FFFFFFFEFFFFFFFFFFFFFFFFFFFFFFFF7203DF6B21C6052B53BBF40939D54123\" # 素数\n",
    "MODULUS = Integer(int(N_HEX, 16)) # 将16进制字符串转换为整数，并创建一个sympy的Integer对象\n",
    "MSG_PREFIX = \"CryptoCup message:\" # 消息前缀"
   ]
  },
  {
   "cell_type": "code",
   "execution_count": 3,
   "id": "82a8b7bf",
   "metadata": {},
   "outputs": [
    {
     "name": "stdout",
     "output_type": "stream",
     "text": [
      "Original Message: Hello, this is a test message.\n",
      "Encrypted Message (hex): 534ed400954f43256f50e9224595608726b3f016f8cece29ad868085526be54b1449d8eb3400703f429ae51b9675ce74aa8548240f176fe65b4ae4632f00eb157d852e4662abbb84a8a8914519beca68dbd6c138283a67d2b677c148ad396006\n",
      "Decrypted Message: Hello, this is a test message.\n"
     ]
    }
   ],
   "source": [
    "# 加密函数\n",
    "# 分组对称加密，使用自增的密钥\n",
    "# 每个分组16字节，使用32字节的整数作为密钥\n",
    "# 密钥自增1\n",
    "# 使用模数进行加密和解密\n",
    "def encrypt_message(message, key):\n",
    "    # 添加前缀\n",
    "    message_with_prefix = MSG_PREFIX + message\n",
    "    message_bytes = message_with_prefix.encode('utf-8')\n",
    "    message_len = len(message_bytes)\n",
    "    num_blocks = (message_len + 15) // 16 # 分组数\n",
    "    blocks = [message_bytes[i * 16:(i + 1) * 16] for i in range(num_blocks)] # 按16字节分组\n",
    "    \n",
    "    # 进行0填充\n",
    "    # 如果最后一个分组不足 16 字节，则通过在末尾补零（0 填充）补齐到 16 字节\n",
    "    blocks[-1] = blocks[-1].ljust(16, b'\\x00')\n",
    "    encrypted_blocks = []\n",
    "    k = key\n",
    "\n",
    "    # 加密每个分组\n",
    "    # \n",
    "    for block in blocks:\n",
    "        block_int = int.from_bytes(block, byteorder='big')\n",
    "        encrypted_block_int = Mod(block_int * k, MODULUS)\n",
    "        encrypted_blocks.append(encrypted_block_int)\n",
    "        k += 1  # 密钥自增1\n",
    "    \n",
    "    # 将加密后的分组连接成最终的密文\n",
    "    encrypted_message = b''.join(\n",
    "        int(block_int).to_bytes(32, byteorder='big') for block_int in encrypted_blocks\n",
    "    )\n",
    "    return encrypted_message\n",
    "\n",
    "# 解密函数\n",
    "def decrypt_message(encrypted_message, key):\n",
    "    num_blocks = len(encrypted_message) // 32\n",
    "    blocks = [encrypted_message[i * 32:(i + 1) * 32] for i in range(num_blocks)]\n",
    "    decrypted_blocks = []\n",
    "    k = key\n",
    "\n",
    "    # 解密每个分组\n",
    "    for block in blocks:\n",
    "        block_int = int.from_bytes(block, byteorder='big')\n",
    "        key_inv = mod_inverse(k, MODULUS)\n",
    "        decrypted_block_int = Mod(block_int * key_inv, MODULUS)\n",
    "        decrypted_blocks.append(decrypted_block_int)\n",
    "        k += 1  # 密钥自增1\n",
    "    # 将解密后的分组连接成最终的明文\n",
    "    decrypted_message = b''.join(\n",
    "        int(block_int).to_bytes(16, byteorder='big') for block_int in decrypted_blocks\n",
    "    )\n",
    "    # 去除前缀\n",
    "    if decrypted_message.startswith(MSG_PREFIX.encode('utf-8')):\n",
    "        decrypted_message = decrypted_message[len(MSG_PREFIX):]\n",
    "\n",
    "    return decrypted_message.rstrip(b'\\x00').decode('utf-8')\n",
    "\n",
    "# 测试\n",
    "initial_key = Integer(0x123456789ABCDEF0123456789ABCDEF0123456789ABCDEF0123456789ABCDEF0)\n",
    "message = \"Hello, this is a test message.\"\n",
    "print(\"Original Message:\", message)\n",
    "\n",
    "# 加密\n",
    "encrypted_message = encrypt_message(message, initial_key)\n",
    "print(\"Encrypted Message (hex):\", encrypted_message.hex())\n",
    "\n",
    "# 解密\n",
    "decrypted_message = decrypt_message(encrypted_message, initial_key)\n",
    "print(\"Decrypted Message:\", decrypted_message)"
   ]
  },
  {
   "cell_type": "markdown",
   "id": "d62eee37",
   "metadata": {},
   "source": [
    "模数和消息前缀已知，密钥未知   \n",
    "设密文每个分组为c1, c2, ..., cn    \n",
    "步骤一、首先将密文按32字节分组"
   ]
  },
  {
   "cell_type": "code",
   "execution_count": null,
   "id": "3c3af1f3",
   "metadata": {},
   "outputs": [
    {
     "data": {
      "text/plain": [
       "True"
      ]
     },
     "execution_count": 4,
     "metadata": {},
     "output_type": "execute_result"
    }
   ],
   "source": [
    "# 给定的密文（16进制字符串）\n",
    "ciphertext_hex = encrypted_message.hex() ## 这里直接使用上面的加密信息\n",
    "ciphertext_bytes = bytes.fromhex(ciphertext_hex)\n",
    "\n",
    "# 提取第一个密文分组（32字节）\n",
    "first_block = ciphertext_bytes[:32]\n",
    "c1_int = int.from_bytes(first_block, 'big')\n",
    "\n",
    "from sympy import isprime\n",
    "isprime(MODULUS) # 检查模数是否为素数"
   ]
  },
  {
   "cell_type": "markdown",
   "id": "ce6aad8c",
   "metadata": {},
   "source": [
    "设第一个分组加密前的明文为m1 = \"CryptoCup mess\"（16字节），第二个分组加密前的明文为m2 = \"age:\"后跟12个0（注意：第二个分组是16字节，其中前4字节是\"age:\"，后面12字节是0）   \n",
    "已知：   \n",
    "c1 = m1 * k (mod MODULUS)   \n",
    "c2 = m2 * (k+1) (mod MODULUS)   \n",
    "可以用第一个分组来求k：   \n",
    "k = c1 * mod_inverse(m1, MODULUS) mod MODULUS   \n",
    "步骤二、恢复初始密钥"
   ]
  },
  {
   "cell_type": "code",
   "execution_count": 5,
   "id": "a5809451",
   "metadata": {},
   "outputs": [],
   "source": [
    "# 计算第一个明文分组（前缀的前16字节）\n",
    "m1_bytes = MSG_PREFIX.encode('utf-8')[:16]\n",
    "m1_int = int.from_bytes(m1_bytes, 'big')\n",
    "\n",
    "# 恢复初始密钥：k = c1 * m1^{-1} mod MODULUS\n",
    "m1_inv = mod_inverse(m1_int, MODULUS)\n",
    "initial_key = Mod(c1_int * m1_inv, MODULUS)"
   ]
  },
  {
   "cell_type": "markdown",
   "id": "0c40b7c8",
   "metadata": {},
   "source": [
    "步骤三、从初始密钥中解密   \n",
    "需要将三个步骤整合为一个函数   \n",
    "下面实际调用题目的解密函数，因为密钥已知"
   ]
  },
  {
   "cell_type": "code",
   "execution_count": null,
   "id": "41bc02b5",
   "metadata": {},
   "outputs": [
    {
     "name": "stdout",
     "output_type": "stream",
     "text": [
      "Decrypted Message: Hello, this is a test message.\n"
     ]
    }
   ],
   "source": [
    "# 使用恢复的密钥解密整个密文\n",
    "decrypted_msg = decrypt_message(ciphertext_bytes, initial_key)\n",
    "print(\"Decrypted Message:\", decrypted_msg)"
   ]
  },
  {
   "cell_type": "markdown",
   "id": "13526dae",
   "metadata": {},
   "source": [
    "完整答案代码：  \n",
    "\n",
    "\n",
    "```python\n",
    "from sympy import Mod, Integer\n",
    "from sympy.core.numbers import mod_inverse\n",
    "from Crypto.Util.number import *\n",
    "\n",
    "# 模数\n",
    "N_HEX = \"FFFFFFFEFFFFFFFFFFFFFFFFFFFFFFFF7203DF6B21C6052B53BBF40939D54123\"\n",
    "MODULUS = Integer(int(N_HEX, 16))\n",
    "MSG_PREFIX = \"CryptoCup message:\"\n",
    "\n",
    "# 解密函数\n",
    "def decrypt_message(encrypted_message, key=-1):\n",
    "    num_blocks = len(encrypted_message) // 32\n",
    "    blocks = [encrypted_message[i * 32:(i + 1) * 32] for i in range(num_blocks)]\n",
    "\n",
    "    decrypted_blocks = []\n",
    "\n",
    "    k = key\n",
    "\n",
    "    # 解密每个分组\n",
    "    for block in blocks:\n",
    "        block_int = int.from_bytes(block, byteorder='big')\n",
    "        if k == -1:\n",
    "            # get key\n",
    "            decrypted_block_int = bytes_to_long(MSG_PREFIX[:16].encode())\n",
    "            k = block_int * mod_inverse(decrypted_block_int, MODULUS) % MODULUS\n",
    "            \n",
    "        key_inv = mod_inverse(k, MODULUS)\n",
    "        decrypted_block_int = Mod(block_int * key_inv, MODULUS)\n",
    "        decrypted_blocks.append(decrypted_block_int)\n",
    "        k += 1  # 密钥自增1\n",
    "\n",
    "    # 将解密后的分组连接成最终的明文\n",
    "    decrypted_message = b''.join(\n",
    "        int(block_int).to_bytes(16, byteorder='big') for block_int in decrypted_blocks\n",
    "    )\n",
    "\n",
    "    # 去除前缀\n",
    "    if decrypted_message.startswith(MSG_PREFIX.encode('utf-8')):\n",
    "        decrypted_message = decrypted_message[len(MSG_PREFIX):]\n",
    "\n",
    "    return decrypted_message.rstrip(b'\\x00').decode('utf-8')\n",
    "\n",
    "\n",
    "encrypted_message = bytes.fromhex('534ed400954f43256f50e9224595608726b3f016f8cece29ad868085526be54b1449d8eb3400703f429ae51b9675ce74aa8548240f176fe65b4ae4632f00eb157d852e4662abbb84a8a8914519beca68dbd6c138283a67d2b677c148ad396006')\n",
    "decrypted_message = decrypt_message(encrypted_message)\n",
    "print(\"Decrypted Message:\", decrypted_message)\n",
    "```"
   ]
  }
 ],
 "metadata": {
  "kernelspec": {
   "display_name": "Python 3",
   "language": "python",
   "name": "python3"
  },
  "language_info": {
   "codemirror_mode": {
    "name": "ipython",
    "version": 3
   },
   "file_extension": ".py",
   "mimetype": "text/x-python",
   "name": "python",
   "nbconvert_exporter": "python",
   "pygments_lexer": "ipython3",
   "version": "3.13.4"
  }
 },
 "nbformat": 4,
 "nbformat_minor": 5
}
