{
 "cells": [
  {
   "cell_type": "markdown",
   "id": "f5aa97eb",
   "metadata": {},
   "source": [
    "题目描述：分析题目附件中的代码，根据服务端所给出的counter和token，伪造出一个可以通过验证的counter和token，并提交至服务端  \n",
    "题目附件中的代码："
   ]
  },
  {
   "cell_type": "code",
   "execution_count": null,
   "id": "8799ca2d",
   "metadata": {},
   "outputs": [],
   "source": [
    "import binascii\n",
    "from gmssl import sm3, func\n",
    "from Crypto.Util.number import *"
   ]
  },
  {
   "cell_type": "code",
   "execution_count": null,
   "id": "d1f737f5",
   "metadata": {},
   "outputs": [],
   "source": [
    "## 服务端代码\n",
    "\n",
    "# 读取HMAC key文件\n",
    "def read_hmac_key(file_path):\n",
    "    with open(file_path, 'rb') as f:\n",
    "        hmac_key = f.read().strip()\n",
    "    return hmac_key\n",
    "    \n",
    "# 生成token\n",
    "def generate_token(hmac_key, counter):\n",
    "    # 如果HMAC_KEY长度不足32字节，则在末尾补0，超过64字节则截断\n",
    "    if len(hmac_key) < 32:\n",
    "        hmac_key = hmac_key.ljust(32, b'\\x00')\n",
    "    elif len(hmac_key) > 32:\n",
    "        hmac_key = hmac_key[:32]\n",
    "    # 将计数器转换为字节表示\n",
    "    counter_bytes = counter.to_bytes((counter.bit_length() + 7) // 8, 'big')\n",
    "    # print(\"counter_bytes:\", binascii.hexlify(counter_bytes))\n",
    "    tobe_hashed = bytearray(hmac_key + counter_bytes)\n",
    "    # print(\"tobe_hashed:\", binascii.hexlify(tobe_hashed))\n",
    "    # 使用SM3算法计算哈希值\n",
    "    sm3_hash = sm3.sm3_hash(tobe_hashed)\n",
    "    # 将SM3的哈希值转换为十六进制字符串作为token\n",
    "    token = sm3_hash\n",
    "    return token\n",
    "\n",
    "current_counter = 0\n",
    "def verify_token(hmac_key, counter, token):\n",
    "    # 生成token\n",
    "    generated_token = generate_token(hmac_key, counter)\n",
    "    global current_counter\n",
    "    # 比较生成的token和输入的token是否相同\n",
    "    if generated_token == token:\n",
    "        if counter & 0xFFFFFFFF > current_counter:\n",
    "            current_counter = counter & 0xFFFFFFFF\n",
    "            print(\"current_counter: \", hex(current_counter))\n",
    "            return \"Success\"\n",
    "        else:\n",
    "            return \"Error: counter must be increasing\"\n",
    "    else:\n",
    "        return \"Error: token not match\"\n",
    "\n",
    "# 假设HMAC key文件路径\n",
    "hmac_key_file = 'hmac_key.txt'\n",
    "# 读取HMAC key\n",
    "hmac_key = read_hmac_key(hmac_key_file)"
   ]
  },
  {
   "cell_type": "code",
   "execution_count": null,
   "id": "74fd6f21",
   "metadata": {},
   "outputs": [],
   "source": [
    "# 假设计数器值\n",
    "counter = 0x12345678\n",
    "\n",
    "# 生成token\n",
    "token = generate_token(hmac_key, counter)\n",
    "print(\"Generated token:\", token)\n",
    "print(verify_token(hmac_key, counter, token))"
   ]
  },
  {
   "cell_type": "markdown",
   "id": "bfe9f8d6",
   "metadata": {},
   "source": [
    "现在需要根据上面得出的token和counter，伪造出新的token和counter，并通过验证   \n",
    "答案与解析如下："
   ]
  },
  {
   "cell_type": "code",
   "execution_count": null,
   "id": "289606dc",
   "metadata": {},
   "outputs": [],
   "source": [
    "token = int(token, 16)\n",
    "print(\"Token in int:\", token)\n",
    "\n",
    "counter_new = bytes.fromhex(hex(counter)[2:]) \n",
    "counter_new += b'\\x80' + b'\\x00' * 19    # padding\n",
    "counter_new += b'\\x00' * 6 + b'\\x01\\x20' # len\n",
    "counter_new += b'\\xff' * 4               # counter_append\n",
    "last_block = b'\\xff' * 4\n",
    "last_block += b'\\x80' + b'\\x00' * 51     # padding\n",
    "last_block += b'\\x00' * 6 + b'\\x02\\x20'  # len\n",
    "\n",
    "prefHashValue = bytes.fromhex(hex(token)[2:])\n",
    "prefHashValue = [bytes_to_long(prefHashValue[i:i+4]) for i in range(0, 32, 4)]\n",
    "NewHashValue = sm3.sm3_cf(prefHashValue, func.bytes_to_list(last_block))\n",
    "NewHashValue = ''.join(['%08x'%val for val in NewHashValue])\n",
    "\n",
    "print('counter:', counter_new.hex())\n",
    "print('token:', NewHashValue)"
   ]
  },
  {
   "cell_type": "code",
   "execution_count": null,
   "id": "8c90dee5",
   "metadata": {},
   "outputs": [],
   "source": [
    "## 通过服务端的接口进行验证\n",
    "# 注意，进行过一次长度扩展攻击后，再次提交验证，\n",
    "# 会出现Error: counter must be increasing\n",
    "# 因为全局变量 current_counter (确保counter递增)\n",
    "# 再次运行该单元格可查看结果\n",
    "print(verify_token(hmac_key, int.from_bytes(counter_new, byteorder='big'), NewHashValue))\n",
    "## 自验证\n",
    "generated_token = generate_token(hmac_key, int.from_bytes(counter_new, 'big'))\n",
    "print(generated_token == NewHashValue)"
   ]
  },
  {
   "cell_type": "markdown",
   "id": "e18c5ea2",
   "metadata": {},
   "source": [
    "相关资料：   \n",
    "[长度拓展攻击](https://www.cnblogs.com/yunen/p/13624595.html#:~:text=%E5%AF%B9%E4%BA%8EHASH%E9%95%BF%E5%BA%A6%E6%8B%93%E5%B1%95%E6%94%BB%E5%87%BB%E7%9A%84%E7%AE%80%E5%8D%95%E5%AD%A6%E4%B9%A0%E7%AC%94%E8%AE%B0)   "
   ]
  }
 ],
 "metadata": {
  "kernelspec": {
   "display_name": "Python 3",
   "language": "python",
   "name": "python3"
  },
  "language_info": {
   "codemirror_mode": {
    "name": "ipython",
    "version": 3
   },
   "file_extension": ".py",
   "mimetype": "text/x-python",
   "name": "python",
   "nbconvert_exporter": "python",
   "pygments_lexer": "ipython3",
   "version": "3.13.4"
  }
 },
 "nbformat": 4,
 "nbformat_minor": 5
}
